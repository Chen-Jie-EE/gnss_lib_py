{
 "cells": [
  {
   "cell_type": "markdown",
   "metadata": {},
   "source": [
    "# NavData Operations"
   ]
  },
  {
   "cell_type": "markdown",
   "metadata": {},
   "source": [
    "[![Open In Colab](https://colab.research.google.com/assets/colab-badge.svg)](https://colab.research.google.com/github/Stanford-NavLab/gnss_lib_py/blob/main/notebooks/tutorials/navdata/operations.ipynb)"
   ]
  },
  {
   "cell_type": "markdown",
   "metadata": {},
   "source": [
    "This tutorial shows how to perform funtional operations on instances of \n",
    "the `NavData` class, such as looping across a time row in a `NavData` instance,\n",
    "concatenating multiple instances together, sorting a `NavData` instance \n",
    "based on the values in a particular row, and interpolating any NaN values."
   ]
  },
  {
   "cell_type": "code",
   "execution_count": 1,
   "metadata": {},
   "outputs": [],
   "source": [
    "import gnss_lib_py as glp"
   ]
  },
  {
   "cell_type": "code",
   "execution_count": 2,
   "metadata": {},
   "outputs": [],
   "source": [
    "# Get data path of example file\n",
    "glp.make_dir(\"../data\")\n",
    "!wget https://raw.githubusercontent.com/Stanford-NavLab/gnss_lib_py/main/notebooks/tutorials/data/myreceiver.csv --quiet -nc -O \"../data/myreceiver.csv\"\n",
    "data_path = \"../data/myreceiver.csv\""
   ]
  },
  {
   "cell_type": "markdown",
   "metadata": {},
   "source": [
    "Create a NavData class from a csv file"
   ]
  },
  {
   "cell_type": "code",
   "execution_count": 3,
   "metadata": {},
   "outputs": [
    {
     "name": "stdout",
     "output_type": "stream",
     "text": [
      "   myTimestamp  mySatId  myPseudorange\n",
      "0           10       10      270000001\n",
      "1           10       14      270000007\n",
      "2           10        7      270000004\n",
      "3           10        3      270000005\n",
      "4           11       10      270000002\n",
      "5           11       14      270000008\n",
      "6           11        7      270000003\n",
      "7           11        3      270000004\n"
     ]
    }
   ],
   "source": [
    "navdata = glp.NavData(csv_path=data_path)\n",
    "print(navdata)"
   ]
  },
  {
   "cell_type": "markdown",
   "metadata": {},
   "source": [
    "## Looping across a Time Row"
   ]
  },
  {
   "cell_type": "markdown",
   "metadata": {},
   "source": [
    "You can use the `NavData.loop_time()` method to loop over groups of data that belong to same time stamp."
   ]
  },
  {
   "cell_type": "code",
   "execution_count": 4,
   "metadata": {},
   "outputs": [
    {
     "name": "stdout",
     "output_type": "stream",
     "text": [
      "Current timestamp:  10\n",
      "Difference between current and future time step 0\n",
      "Current group of data\n",
      "   myTimestamp  mySatId  myPseudorange\n",
      "0           10       10      270000001\n",
      "1           10       14      270000007\n",
      "2           10        7      270000004\n",
      "3           10        3      270000005\n",
      "Current timestamp:  11\n",
      "Difference between current and future time step 1\n",
      "Current group of data\n",
      "   myTimestamp  mySatId  myPseudorange\n",
      "0           11       10      270000002\n",
      "1           11       14      270000008\n",
      "2           11        7      270000003\n",
      "3           11        3      270000004\n"
     ]
    }
   ],
   "source": [
    "for timestamp, delta_t, navdata_subset in glp.loop_time(navdata,'myTimestamp'):\n",
    "    print('Current timestamp: ', timestamp)\n",
    "    print('Difference between current and future time step', delta_t)\n",
    "    print('Current group of data')\n",
    "    print(navdata_subset)"
   ]
  },
  {
   "cell_type": "markdown",
   "metadata": {},
   "source": [
    "## Concatenating NavData Instances"
   ]
  },
  {
   "cell_type": "markdown",
   "metadata": {},
   "source": [
    "Use the `glp.concat()` method to concatenate two or more `NavData` instances. Each type of data is included in a row, so adding new rows with ``axis=0``, means adding new types of data. Concat requires that the new NavData matches the length of the existing NavData. Row concatenation assumes the same ordering within rows across both NavData instances (e.g. sorted by timestamp) and does not perform any matching/sorting itself. If the concatenating navdatas share a column name with ``axis=0`` then concat will add a suffix to create a unique row name."
   ]
  },
  {
   "cell_type": "code",
   "execution_count": 5,
   "metadata": {},
   "outputs": [
    {
     "data": {
      "text/plain": [
       "   myTimestamp  mySatId  myPseudorange  myTimestamp_0  mySatId_0  \\\n",
       "0           10       10      270000001             10         10   \n",
       "1           10       14      270000007             10         14   \n",
       "2           10        7      270000004             10          7   \n",
       "3           10        3      270000005             10          3   \n",
       "4           11       10      270000002             11         10   \n",
       "5           11       14      270000008             11         14   \n",
       "6           11        7      270000003             11          7   \n",
       "7           11        3      270000004             11          3   \n",
       "\n",
       "   myPseudorange_0  \n",
       "0        270000001  \n",
       "1        270000007  \n",
       "2        270000004  \n",
       "3        270000005  \n",
       "4        270000002  \n",
       "5        270000008  \n",
       "6        270000003  \n",
       "7        270000004  "
      ]
     },
     "execution_count": 5,
     "metadata": {},
     "output_type": "execute_result"
    }
   ],
   "source": [
    "double_navdata = glp.concat(navdata, navdata, axis=0)\n",
    "double_navdata"
   ]
  },
  {
   "cell_type": "markdown",
   "metadata": {},
   "source": [
    "You can also concatenate new data to existing rows with ``axis=1``. If the row names of the new NavData instance don't match the row names ofthe existing NavData instance, the mismatched values will be filled with np.nan."
   ]
  },
  {
   "cell_type": "code",
   "execution_count": 6,
   "metadata": {},
   "outputs": [
    {
     "data": {
      "text/plain": [
       "    myTimestamp  mySatId  myPseudorange  myTimestamp_0  mySatId_0  \\\n",
       "0            10       10      270000001           10.0       10.0   \n",
       "1            10       14      270000007           10.0       14.0   \n",
       "2            10        7      270000004           10.0        7.0   \n",
       "3            10        3      270000005           10.0        3.0   \n",
       "4            11       10      270000002           11.0       10.0   \n",
       "5            11       14      270000008           11.0       14.0   \n",
       "6            11        7      270000003           11.0        7.0   \n",
       "7            11        3      270000004           11.0        3.0   \n",
       "8            10       10      270000001            NaN        NaN   \n",
       "9            10       14      270000007            NaN        NaN   \n",
       "10           10        7      270000004            NaN        NaN   \n",
       "11           10        3      270000005            NaN        NaN   \n",
       "12           11       10      270000002            NaN        NaN   \n",
       "13           11       14      270000008            NaN        NaN   \n",
       "14           11        7      270000003            NaN        NaN   \n",
       "15           11        3      270000004            NaN        NaN   \n",
       "\n",
       "    myPseudorange_0  \n",
       "0       270000001.0  \n",
       "1       270000007.0  \n",
       "2       270000004.0  \n",
       "3       270000005.0  \n",
       "4       270000002.0  \n",
       "5       270000008.0  \n",
       "6       270000003.0  \n",
       "7       270000004.0  \n",
       "8               NaN  \n",
       "9               NaN  \n",
       "10              NaN  \n",
       "11              NaN  \n",
       "12              NaN  \n",
       "13              NaN  \n",
       "14              NaN  \n",
       "15              NaN  "
      ]
     },
     "execution_count": 6,
     "metadata": {},
     "output_type": "execute_result"
    }
   ],
   "source": [
    "glp.concat(double_navdata, navdata, axis=1)"
   ]
  },
  {
   "cell_type": "markdown",
   "metadata": {},
   "source": [
    "## Sorting a NavData Instance based on Row Values"
   ]
  },
  {
   "cell_type": "markdown",
   "metadata": {},
   "source": [
    "An entire `NavData` instance can be sorted based on the values in a specified\n",
    "row or to match a previously determined order.\n",
    "\n",
    "This operation can be performed in place using the argument `inplace = True`.\n",
    "In this case, the `sort` function returns `None` and modifies the input `NavData`\n",
    "in existing memory. If `inplace=False`, a new sorted `NavData` is returned."
   ]
  },
  {
   "cell_type": "code",
   "execution_count": 7,
   "metadata": {},
   "outputs": [
    {
     "name": "stdout",
     "output_type": "stream",
     "text": [
      "New NavData \n",
      "    myTimestamp  mySatId  myPseudorange  random_row\n",
      "0           10       10      270000001           5\n",
      "1           10       14      270000007           7\n",
      "2           10        7      270000004           4\n",
      "3           10        3      270000005           0\n",
      "4           11       10      270000002           2\n",
      "5           11       14      270000008           6\n",
      "6           11        7      270000003           3\n",
      "7           11        3      270000004           1\n"
     ]
    }
   ],
   "source": [
    "# Generate a new row with random numbers\n",
    "import numpy as np\n",
    "new_row = np.arange(len(navdata))\n",
    "np.random.shuffle(new_row)\n",
    "#Add a new row with random numbers to the existing NavData\n",
    "navdata['random_row'] = new_row\n",
    "print('New NavData \\n', navdata)\n"
   ]
  },
  {
   "cell_type": "markdown",
   "metadata": {},
   "source": [
    "Sort in ascending order"
   ]
  },
  {
   "cell_type": "code",
   "execution_count": 8,
   "metadata": {},
   "outputs": [
    {
     "name": "stdout",
     "output_type": "stream",
     "text": [
      "Ascending order sorted NavData\n",
      "   myTimestamp  mySatId  myPseudorange  random_row\n",
      "0           10        3      270000005           0\n",
      "1           11        3      270000004           1\n",
      "2           11       10      270000002           2\n",
      "3           11        7      270000003           3\n",
      "4           10        7      270000004           4\n",
      "5           10       10      270000001           5\n",
      "6           11       14      270000008           6\n",
      "7           10       14      270000007           7\n"
     ]
    }
   ],
   "source": [
    "print('Ascending order sorted NavData')\n",
    "print(glp.sort(navdata, order='random_row'))"
   ]
  },
  {
   "cell_type": "markdown",
   "metadata": {},
   "source": [
    "Sort in descending order"
   ]
  },
  {
   "cell_type": "code",
   "execution_count": 9,
   "metadata": {},
   "outputs": [
    {
     "name": "stdout",
     "output_type": "stream",
     "text": [
      "Descending order sorted NavData\n",
      "   myTimestamp  mySatId  myPseudorange  random_row\n",
      "0           10       14      270000007           7\n",
      "1           11       14      270000008           6\n",
      "2           10       10      270000001           5\n",
      "3           10        7      270000004           4\n",
      "4           11        7      270000003           3\n",
      "5           11       10      270000002           2\n",
      "6           11        3      270000004           1\n",
      "7           10        3      270000005           0\n"
     ]
    }
   ],
   "source": [
    "print('Descending order sorted NavData')\n",
    "print(glp.sort(navdata, order='random_row', ascending=False))"
   ]
  },
  {
   "cell_type": "markdown",
   "metadata": {},
   "source": [
    "Sort using indices given by an externally determined order"
   ]
  },
  {
   "cell_type": "code",
   "execution_count": 10,
   "metadata": {},
   "outputs": [
    {
     "name": "stdout",
     "output_type": "stream",
     "text": [
      "Sorted using externally determined indices\n",
      "   myTimestamp  mySatId  myPseudorange  random_row\n",
      "0           10        3      270000005           0\n",
      "1           11        3      270000004           1\n",
      "2           11       10      270000002           2\n",
      "3           11        7      270000003           3\n",
      "4           10        7      270000004           4\n",
      "5           10       10      270000001           5\n",
      "6           11       14      270000008           6\n",
      "7           10       14      270000007           7\n"
     ]
    }
   ],
   "source": [
    "#find indices corresponding to external order of sorting\n",
    "sort_order = np.argsort(new_row)\n",
    "print('Sorted using externally determined indices')\n",
    "print(glp.sort(navdata, ind=sort_order))"
   ]
  },
  {
   "cell_type": "markdown",
   "metadata": {},
   "source": [
    "## Interpolate NaN values in a NavData Row"
   ]
  },
  {
   "cell_type": "markdown",
   "metadata": {},
   "source": [
    "Some algorithms might not return results for some time instances or samples, leading to a situation where the `NaN` values have to be replaced with values interpolated between known topics.\n",
    "In this case, we can use the `glp.interpolate` function with corresponding attributes for the x-axis and y-axis values to interpolate and replace the `NaN` values."
   ]
  },
  {
   "cell_type": "code",
   "execution_count": 11,
   "metadata": {},
   "outputs": [
    {
     "name": "stdout",
     "output_type": "stream",
     "text": [
      "NavData with NaN values \n",
      "    myTimestamp  mySatId  myPseudorange  random_row  nan_row_x  nan_row_y\n",
      "0           10       10      270000001           5        0.0        0.0\n",
      "1           10       14      270000007           7        1.0        NaN\n",
      "2           10        7      270000004           4        2.0        2.0\n",
      "3           10        3      270000005           0        3.0        NaN\n",
      "4           11       10      270000002           2        4.0        NaN\n",
      "5           11       14      270000008           6        5.0        5.0\n",
      "6           11        7      270000003           3        6.0        NaN\n",
      "7           11        3      270000004           1        7.0        7.0\n",
      "NavData values with interpolated values \n",
      "    myTimestamp  mySatId  myPseudorange  random_row  nan_row_x  nan_row_y\n",
      "0           10       10      270000001           5        0.0        0.0\n",
      "1           10       14      270000007           7        1.0        1.0\n",
      "2           10        7      270000004           4        2.0        2.0\n",
      "3           10        3      270000005           0        3.0        3.0\n",
      "4           11       10      270000002           2        4.0        4.0\n",
      "5           11       14      270000008           6        5.0        5.0\n",
      "6           11        7      270000003           3        6.0        6.0\n",
      "7           11        3      270000004           1        7.0        7.0\n"
     ]
    }
   ],
   "source": [
    "#Create a new y-axis row with some NaN values\n",
    "nan_row_x = np.arange(len(navdata)).astype(np.float64)\n",
    "nan_row_y = np.arange(len(navdata)).astype(np.float64)\n",
    "nan_indices = [1, 3, 4, 6]\n",
    "nan_row_y[nan_indices] = np.nan\n",
    "#Set these rows in the navdata\n",
    "navdata['nan_row_x'] = nan_row_x\n",
    "navdata['nan_row_y'] = nan_row_y\n",
    "print('NavData with NaN values \\n', navdata)\n",
    "\n",
    "#Interpolate the NaN values\n",
    "glp.interpolate(navdata, 'nan_row_x', 'nan_row_y', inplace=True)\n",
    "print('NavData values with interpolated values \\n', navdata)\n",
    "\n"
   ]
  },
  {
   "cell_type": "markdown",
   "metadata": {},
   "source": [
    "## Find row names that correspond to a particular pattern"
   ]
  },
  {
   "cell_type": "markdown",
   "metadata": {},
   "source": [
    "In some cases, row names follow a pattern but the exact row name might be unknown.\n",
    "These cases might happen when the row name also mentions the algorithm used to obtain the estimate but downstream processing does not care about this distinction.\n",
    "In this case, we can use the `find_wildcard_indexes` function to extract the relavant row names.\n",
    "\n",
    "This method returns a dictionary where the wildcard query is the key and \n",
    "the found row names are the columns."
   ]
  },
  {
   "cell_type": "code",
   "execution_count": 12,
   "metadata": {},
   "outputs": [
    {
     "name": "stdout",
     "output_type": "stream",
     "text": [
      "{'nan_*_x': ['nan_row_x']}\n",
      "{'nan_*_x': ['nan_row_x', 'nan_col_x']}\n"
     ]
    }
   ],
   "source": [
    "print(glp.find_wildcard_indexes(navdata, 'nan_*_x', max_allow=1))\n",
    "navdata['nan_col_x'] = 0\n",
    "print(glp.find_wildcard_indexes(navdata, 'nan_*_x'))"
   ]
  },
  {
   "cell_type": "markdown",
   "metadata": {},
   "source": [
    "This function can also be used to exclude certain wildcards or allow only\n",
    "one row name using functional attributes. If `max_allow=1` is used when\n",
    "there are more than `max_allow` entries, the function will raise a `KeyError`"
   ]
  },
  {
   "cell_type": "code",
   "execution_count": 14,
   "metadata": {},
   "outputs": [
    {
     "name": "stdout",
     "output_type": "stream",
     "text": [
      "Error: 'More than 1 possible row indexes for nan_*_x'\n"
     ]
    }
   ],
   "source": [
    "try:\n",
    "    glp.find_wildcard_indexes(navdata, 'nan_*_x', max_allow=1)\n",
    "except KeyError as excp:\n",
    "    print('Error:', excp)"
   ]
  }
 ],
 "metadata": {
  "kernelspec": {
   "display_name": "Python 3 (ipykernel)",
   "language": "python",
   "name": "python3"
  },
  "language_info": {
   "codemirror_mode": {
    "name": "ipython",
    "version": 3
   },
   "file_extension": ".py",
   "mimetype": "text/x-python",
   "name": "python",
   "nbconvert_exporter": "python",
   "pygments_lexer": "ipython3",
   "version": "3.8.9"
  },
  "vscode": {
   "interpreter": {
    "hash": "c7717b1dd2ec65abd747d44a25869d062db68d19263f8e701e26dddb0b153342"
   }
  }
 },
 "nbformat": 4,
 "nbformat_minor": 4
}

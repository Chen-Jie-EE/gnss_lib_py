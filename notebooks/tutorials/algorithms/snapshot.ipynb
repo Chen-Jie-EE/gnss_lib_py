{
 "cells": [
  {
   "cell_type": "markdown",
   "id": "1c1399bb-63e0-41fc-b6ec-717cccdee270",
   "metadata": {},
   "source": [
    "# Snapshot Localization Algorithms"
   ]
  },
  {
   "cell_type": "markdown",
   "id": "e0764b23",
   "metadata": {},
   "source": [
    "[![Open In Colab](https://colab.research.google.com/assets/colab-badge.svg)](https://colab.research.google.com/github/Stanford-NavLab/gnss_lib_py/blob/main/notebooks/tutorials/algorithms/snapshot.ipynb)"
   ]
  },
  {
   "cell_type": "markdown",
   "id": "151c36e4-cad1-4d02-9292-d422d2339883",
   "metadata": {},
   "source": [
    "These tutorials demonstrate the snapshot localization algorithms available in ``gnss_lib_py``."
   ]
  },
  {
   "cell_type": "markdown",
   "id": "76ee7e5e",
   "metadata": {},
   "source": [
    "## Weighted Least Squares"
   ]
  },
  {
   "cell_type": "code",
   "execution_count": null,
   "id": "cce0e69e",
   "metadata": {},
   "outputs": [],
   "source": [
    "import gnss_lib_py as glp"
   ]
  },
  {
   "cell_type": "code",
   "execution_count": null,
   "id": "c335608f",
   "metadata": {},
   "outputs": [],
   "source": [
    "# load Android Google Challenge data\n",
    "glp.make_dir(\"../data\")\n",
    "!wget https://raw.githubusercontent.com/Stanford-NavLab/gnss_lib_py/main/data/unit_test/google_decimeter_2021/Pixel4XL_derived.csv --quiet -nc -O \"../data/Pixel4XL_derived.csv\"\n",
    "derived_data = glp.AndroidDerived2021(\"../data/Pixel4XL_derived.csv\", remove_timing_outliers=False)"
   ]
  },
  {
   "cell_type": "markdown",
   "id": "3bc6b5dd",
   "metadata": {},
   "source": [
    "Solve for the Weighted Least Squares position estimate simply by passing the measurement data.\n",
    "\n",
    "When obtaining WLS estimates for real measurements, the rotation of the Earth between the signal transmission and reception has to be accounted for.\n",
    "`solve_wls` accounts for this by default and rotates the given SV positions into the ECEF frame of reference when the signals were received rather using the ECEF frame of reference of when the signals were transmitted.\n",
    "\n",
    "If you assume that the satellite positions are given in the ECEF frame of reference when the signals were received (and not transmitted), set the parameter `sv_rx_time = True` in the function call."
   ]
  },
  {
   "cell_type": "code",
   "execution_count": null,
   "id": "8f557028",
   "metadata": {},
   "outputs": [],
   "source": [
    "state_wls = glp.solve_wls(derived_data)\n",
    "# When assuming that SV positions are given in the ECEF frame when signals are received use\n",
    "# state_wls = glp.solve_wls(derived_data, sv_rx_time=True)"
   ]
  },
  {
   "cell_type": "markdown",
   "id": "a9bffc6c",
   "metadata": {},
   "source": [
    "Plot the ECEF x and ECEF y computed position estimate of the receiver"
   ]
  },
  {
   "cell_type": "code",
   "execution_count": null,
   "id": "ace0ae60",
   "metadata": {},
   "outputs": [],
   "source": [
    "glp.plot_map(state_wls)"
   ]
  },
  {
   "cell_type": "markdown",
   "id": "c68a3316",
   "metadata": {},
   "source": [
    "## Extended Kalman Filter"
   ]
  },
  {
   "cell_type": "code",
   "execution_count": null,
   "id": "a7bf5bfc",
   "metadata": {},
   "outputs": [],
   "source": [
    "import gnss_lib_py as glp"
   ]
  },
  {
   "cell_type": "code",
   "execution_count": null,
   "id": "c3b26664",
   "metadata": {},
   "outputs": [],
   "source": [
    "# load Android Google Challenge data\n",
    "glp.make_dir(\"../data\")\n",
    "!wget https://raw.githubusercontent.com/Stanford-NavLab/gnss_lib_py/main/data/unit_test/google_decimeter_2021/Pixel4XL_derived.csv --quiet -nc -O \"../data/Pixel4XL_derived.csv\"\n",
    "derived_data = glp.AndroidDerived2021(\"../data/Pixel4XL_derived.csv\", remove_timing_outliers=False)"
   ]
  },
  {
   "cell_type": "markdown",
   "id": "0387e03e",
   "metadata": {},
   "source": [
    "Solve for the extended Kalman filter position estimate simply by passing the measurement data."
   ]
  },
  {
   "cell_type": "code",
   "execution_count": null,
   "id": "2615edfb",
   "metadata": {},
   "outputs": [],
   "source": [
    "state_ekf = glp.solve_gnss_ekf(derived_data)"
   ]
  },
  {
   "cell_type": "markdown",
   "id": "63c71960",
   "metadata": {},
   "source": [
    "Plot the ECEF x and ECEF y computed position estimate of the receiver"
   ]
  },
  {
   "cell_type": "code",
   "execution_count": null,
   "id": "336e4a0f",
   "metadata": {},
   "outputs": [],
   "source": [
    "glp.plot_map(state_ekf)"
   ]
  }
 ],
 "metadata": {
  "kernelspec": {
   "display_name": "Python 3 (ipykernel)",
   "language": "python",
   "name": "python3"
  },
  "language_info": {
   "codemirror_mode": {
    "name": "ipython",
    "version": 3
   },
   "file_extension": ".py",
   "mimetype": "text/x-python",
   "name": "python",
   "nbconvert_exporter": "python",
   "pygments_lexer": "ipython3",
   "version": "3.8.9"
  },
  "vscode": {
   "interpreter": {
    "hash": "c7717b1dd2ec65abd747d44a25869d062db68d19263f8e701e26dddb0b153342"
   }
  }
 },
 "nbformat": 4,
 "nbformat_minor": 5
}
